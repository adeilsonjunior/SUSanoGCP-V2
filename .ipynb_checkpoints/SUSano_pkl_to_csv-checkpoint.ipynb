{
 "cells": [
  {
   "cell_type": "code",
   "execution_count": 1,
   "id": "48e1478d",
   "metadata": {},
   "outputs": [],
   "source": [
    "import pandas as pd\n",
    "import os\n",
    "import sys"
   ]
  },
  {
   "cell_type": "code",
   "execution_count": 2,
   "id": "9c687926",
   "metadata": {},
   "outputs": [
    {
     "name": "stdout",
     "output_type": "stream",
     "text": [
      "data_files_path='.\\\\Dados\\\\2021', csv_files_path='.\\\\Dados\\\\2021\\\\csv_files'\n"
     ]
    }
   ],
   "source": [
    "ano_susano = '2021'\n",
    "data_files_path = os.path.join('.','Dados', ano_susano)\n",
    "csv_files_path = os.path.join(data_files_path, 'csv_files')\n",
    "print(f'{data_files_path=}, {csv_files_path=}')\n",
    "tmp_path = os.path.join('/tmp')\n",
    "pkl_source = 'LOCAL'\n",
    "\n",
    "all_pkls = []"
   ]
  },
  {
   "cell_type": "code",
   "execution_count": 3,
   "id": "dd5217f9",
   "metadata": {},
   "outputs": [],
   "source": [
    "os.mkdir(csv_files_path)"
   ]
  },
  {
   "cell_type": "code",
   "execution_count": 15,
   "id": "003da557",
   "metadata": {},
   "outputs": [],
   "source": [
    "def read_pkl(pkl_file):\n",
    "    local_path = os.path.join(data_files_path, pkl_file)\n",
    "    print(f'read_pkl: {local_path=}')\n",
    "\n",
    "    df = pd.read_pickle(local_path)\n",
    "\n",
    "    all_pkls.append(pkl_file)\n",
    "    return df"
   ]
  },
  {
   "cell_type": "code",
   "execution_count": 7,
   "id": "f796c4e7",
   "metadata": {},
   "outputs": [],
   "source": [
    "pkl_files = [f for f in os.listdir(data_files_path) if f.endswith('.pkl')]"
   ]
  },
  {
   "cell_type": "code",
   "execution_count": 8,
   "id": "0a52b181",
   "metadata": {},
   "outputs": [
    {
     "data": {
      "text/plain": [
       "['df_A.pkl',\n",
       " 'df_alvo_mes_limiar.pkl',\n",
       " 'df_capitais.pkl',\n",
       " 'df_E.pkl',\n",
       " 'df_EMA.pkl',\n",
       " 'df_EMA_mes.pkl',\n",
       " 'df_grupos.pkl',\n",
       " 'df_M.pkl',\n",
       " 'df_MA.pkl',\n",
       " 'df_MA_mes.pkl',\n",
       " 'df_pop_UF.pkl',\n",
       " 'df_subgrupos.pkl',\n",
       " 'df_UF_A_mes.pkl']"
      ]
     },
     "execution_count": 8,
     "metadata": {},
     "output_type": "execute_result"
    }
   ],
   "source": [
    "pkl_files"
   ]
  },
  {
   "cell_type": "code",
   "execution_count": 9,
   "id": "179e3bf2",
   "metadata": {},
   "outputs": [
    {
     "name": "stdout",
     "output_type": "stream",
     "text": [
      "read_pkl: local_path='.\\\\Dados\\\\2021\\\\df_A.pkl'\n",
      "read_pkl: local_path='.\\\\Dados\\\\2021\\\\df_alvo_mes_limiar.pkl'\n",
      "read_pkl: local_path='.\\\\Dados\\\\2021\\\\df_capitais.pkl'\n",
      "read_pkl: local_path='.\\\\Dados\\\\2021\\\\df_E.pkl'\n",
      "read_pkl: local_path='.\\\\Dados\\\\2021\\\\df_EMA.pkl'\n",
      "read_pkl: local_path='.\\\\Dados\\\\2021\\\\df_EMA_mes.pkl'\n",
      "read_pkl: local_path='.\\\\Dados\\\\2021\\\\df_grupos.pkl'\n",
      "read_pkl: local_path='.\\\\Dados\\\\2021\\\\df_M.pkl'\n",
      "read_pkl: local_path='.\\\\Dados\\\\2021\\\\df_MA.pkl'\n",
      "read_pkl: local_path='.\\\\Dados\\\\2021\\\\df_MA_mes.pkl'\n"
     ]
    },
    {
     "ename": "OSError",
     "evalue": "[Errno 22] Invalid argument",
     "output_type": "error",
     "traceback": [
      "\u001b[1;31m---------------------------------------------------------------------------\u001b[0m",
      "\u001b[1;31mOSError\u001b[0m                                   Traceback (most recent call last)",
      "Cell \u001b[1;32mIn[9], line 3\u001b[0m\n\u001b[0;32m      1\u001b[0m \u001b[38;5;28;01mfor\u001b[39;00m pkl_file \u001b[38;5;129;01min\u001b[39;00m pkl_files:\n\u001b[0;32m      2\u001b[0m     csv_zip_file \u001b[38;5;241m=\u001b[39m pkl_file\u001b[38;5;241m.\u001b[39mreplace(\u001b[38;5;124m'\u001b[39m\u001b[38;5;124m.pkl\u001b[39m\u001b[38;5;124m'\u001b[39m, \u001b[38;5;124m'\u001b[39m\u001b[38;5;124m.zip\u001b[39m\u001b[38;5;124m'\u001b[39m)\n\u001b[1;32m----> 3\u001b[0m     df \u001b[38;5;241m=\u001b[39m \u001b[43mread_pkl\u001b[49m\u001b[43m(\u001b[49m\u001b[43mpkl_file\u001b[49m\u001b[43m)\u001b[49m\n\u001b[0;32m      4\u001b[0m     df\u001b[38;5;241m.\u001b[39mto_csv(os\u001b[38;5;241m.\u001b[39mpath\u001b[38;5;241m.\u001b[39mjoin(csv_files_path, csv_zip_file), index\u001b[38;5;241m=\u001b[39m\u001b[38;5;28;01mFalse\u001b[39;00m)\n",
      "Cell \u001b[1;32mIn[4], line 6\u001b[0m, in \u001b[0;36mread_pkl\u001b[1;34m(pkl_file)\u001b[0m\n\u001b[0;32m      4\u001b[0m gc_path \u001b[38;5;241m=\u001b[39m os\u001b[38;5;241m.\u001b[39mpath\u001b[38;5;241m.\u001b[39mjoin(tmp_path, pkl_file)\n\u001b[0;32m      5\u001b[0m \u001b[38;5;28;01mif\u001b[39;00m pkl_source \u001b[38;5;241m==\u001b[39m \u001b[38;5;124m'\u001b[39m\u001b[38;5;124mLOCAL\u001b[39m\u001b[38;5;124m'\u001b[39m:\n\u001b[1;32m----> 6\u001b[0m     df \u001b[38;5;241m=\u001b[39m \u001b[43mpd\u001b[49m\u001b[38;5;241;43m.\u001b[39;49m\u001b[43mread_pickle\u001b[49m\u001b[43m(\u001b[49m\u001b[43mlocal_path\u001b[49m\u001b[43m)\u001b[49m\n\u001b[0;32m      7\u001b[0m \u001b[38;5;28;01melse\u001b[39;00m:\n\u001b[0;32m      8\u001b[0m     \u001b[38;5;66;03m# download_blob(pkl_source, 'Dados/' + pkl_file, gc_path)\u001b[39;00m\n\u001b[0;32m      9\u001b[0m     df \u001b[38;5;241m=\u001b[39m pd\u001b[38;5;241m.\u001b[39mread_pickle(gc_path)\n",
      "File \u001b[1;32m~\\anaconda3\\lib\\site-packages\\pandas\\io\\pickle.py:205\u001b[0m, in \u001b[0;36mread_pickle\u001b[1;34m(filepath_or_buffer, compression, storage_options)\u001b[0m\n\u001b[0;32m    202\u001b[0m     \u001b[38;5;28;01mwith\u001b[39;00m warnings\u001b[38;5;241m.\u001b[39mcatch_warnings(record\u001b[38;5;241m=\u001b[39m\u001b[38;5;28;01mTrue\u001b[39;00m):\n\u001b[0;32m    203\u001b[0m         \u001b[38;5;66;03m# We want to silence any warnings about, e.g. moved modules.\u001b[39;00m\n\u001b[0;32m    204\u001b[0m         warnings\u001b[38;5;241m.\u001b[39msimplefilter(\u001b[38;5;124m\"\u001b[39m\u001b[38;5;124mignore\u001b[39m\u001b[38;5;124m\"\u001b[39m, \u001b[38;5;167;01mWarning\u001b[39;00m)\n\u001b[1;32m--> 205\u001b[0m         \u001b[38;5;28;01mreturn\u001b[39;00m \u001b[43mpickle\u001b[49m\u001b[38;5;241;43m.\u001b[39;49m\u001b[43mload\u001b[49m\u001b[43m(\u001b[49m\u001b[43mhandles\u001b[49m\u001b[38;5;241;43m.\u001b[39;49m\u001b[43mhandle\u001b[49m\u001b[43m)\u001b[49m\n\u001b[0;32m    206\u001b[0m \u001b[38;5;28;01mexcept\u001b[39;00m excs_to_catch:\n\u001b[0;32m    207\u001b[0m     \u001b[38;5;66;03m# e.g.\u001b[39;00m\n\u001b[0;32m    208\u001b[0m     \u001b[38;5;66;03m#  \"No module named 'pandas.core.sparse.series'\"\u001b[39;00m\n\u001b[0;32m    209\u001b[0m     \u001b[38;5;66;03m#  \"Can't get attribute '__nat_unpickle' on <module 'pandas._libs.tslib\"\u001b[39;00m\n\u001b[0;32m    210\u001b[0m     \u001b[38;5;28;01mreturn\u001b[39;00m pc\u001b[38;5;241m.\u001b[39mload(handles\u001b[38;5;241m.\u001b[39mhandle, encoding\u001b[38;5;241m=\u001b[39m\u001b[38;5;28;01mNone\u001b[39;00m)\n",
      "\u001b[1;31mOSError\u001b[0m: [Errno 22] Invalid argument"
     ]
    }
   ],
   "source": [
    "for pkl_file in pkl_files:\n",
    "    csv_zip_file = pkl_file.replace('.pkl', '.zip')\n",
    "    df = read_pkl(pkl_file)\n",
    "    df.to_csv(os.path.join(csv_files_path, csv_zip_file), index=False)"
   ]
  },
  {
   "cell_type": "code",
   "execution_count": null,
   "id": "8a33df5b",
   "metadata": {},
   "outputs": [],
   "source": [
    "dtypes_EMA = {'CNES':str,\n",
    "             'IBGE_Res':str,\n",
    "             'IBGE_Estab': str,\n",
    "             'IBGE_CAPITAL': str,\n",
    "             'CO_GRUPO': str,\n",
    "             'CO_GRUPO_SUBGRUPO': str}"
   ]
  },
  {
   "cell_type": "code",
   "execution_count": null,
   "id": "f1f50fb3",
   "metadata": {},
   "outputs": [],
   "source": [
    "# Teste leitura\n",
    "zip_file = 'df_subgrupos.zip'\n",
    "df = pd.read_csv(os.path.join(csv_files_path, zip_file), dtype=dtypes_EMA)"
   ]
  },
  {
   "cell_type": "code",
   "execution_count": null,
   "id": "a6e4c27d",
   "metadata": {
    "scrolled": true
   },
   "outputs": [],
   "source": [
    "df"
   ]
  },
  {
   "cell_type": "code",
   "execution_count": 13,
   "id": "f1ddf6a0",
   "metadata": {},
   "outputs": [
    {
     "name": "stdout",
     "output_type": "stream",
     "text": [
      "read_pkl: local_path='g:\\\\Meu Drive\\\\Colab_Notebooks\\\\dash\\\\SUSano_Dash\\\\SUSanoGCP-V2\\\\df_MA_mes.pkl'\n"
     ]
    },
    {
     "ename": "FileNotFoundError",
     "evalue": "[Errno 2] No such file or directory: 'g:\\\\Meu Drive\\\\Colab_Notebooks\\\\dash\\\\SUSano_Dash\\\\SUSanoGCP-V2\\\\df_MA_mes.pkl'",
     "output_type": "error",
     "traceback": [
      "\u001b[1;31m---------------------------------------------------------------------------\u001b[0m",
      "\u001b[1;31mFileNotFoundError\u001b[0m                         Traceback (most recent call last)",
      "Cell \u001b[1;32mIn[13], line 3\u001b[0m\n\u001b[0;32m      1\u001b[0m cwd \u001b[38;5;241m=\u001b[39m os\u001b[38;5;241m.\u001b[39mgetcwd()\n\u001b[1;32m----> 3\u001b[0m df \u001b[38;5;241m=\u001b[39m \u001b[43mread_pkl\u001b[49m\u001b[43m(\u001b[49m\u001b[43mos\u001b[49m\u001b[38;5;241;43m.\u001b[39;49m\u001b[43mpath\u001b[49m\u001b[38;5;241;43m.\u001b[39;49m\u001b[43mjoin\u001b[49m\u001b[43m(\u001b[49m\u001b[43mcwd\u001b[49m\u001b[43m,\u001b[49m\u001b[43m \u001b[49m\u001b[38;5;124;43m'\u001b[39;49m\u001b[38;5;124;43mdf_MA_mes.pkl\u001b[39;49m\u001b[38;5;124;43m'\u001b[39;49m\u001b[43m)\u001b[49m\u001b[43m)\u001b[49m\n",
      "Cell \u001b[1;32mIn[4], line 6\u001b[0m, in \u001b[0;36mread_pkl\u001b[1;34m(pkl_file)\u001b[0m\n\u001b[0;32m      4\u001b[0m gc_path \u001b[38;5;241m=\u001b[39m os\u001b[38;5;241m.\u001b[39mpath\u001b[38;5;241m.\u001b[39mjoin(tmp_path, pkl_file)\n\u001b[0;32m      5\u001b[0m \u001b[38;5;28;01mif\u001b[39;00m pkl_source \u001b[38;5;241m==\u001b[39m \u001b[38;5;124m'\u001b[39m\u001b[38;5;124mLOCAL\u001b[39m\u001b[38;5;124m'\u001b[39m:\n\u001b[1;32m----> 6\u001b[0m     df \u001b[38;5;241m=\u001b[39m \u001b[43mpd\u001b[49m\u001b[38;5;241;43m.\u001b[39;49m\u001b[43mread_pickle\u001b[49m\u001b[43m(\u001b[49m\u001b[43mlocal_path\u001b[49m\u001b[43m)\u001b[49m\n\u001b[0;32m      7\u001b[0m \u001b[38;5;28;01melse\u001b[39;00m:\n\u001b[0;32m      8\u001b[0m     \u001b[38;5;66;03m# download_blob(pkl_source, 'Dados/' + pkl_file, gc_path)\u001b[39;00m\n\u001b[0;32m      9\u001b[0m     df \u001b[38;5;241m=\u001b[39m pd\u001b[38;5;241m.\u001b[39mread_pickle(gc_path)\n",
      "File \u001b[1;32m~\\anaconda3\\lib\\site-packages\\pandas\\io\\pickle.py:187\u001b[0m, in \u001b[0;36mread_pickle\u001b[1;34m(filepath_or_buffer, compression, storage_options)\u001b[0m\n\u001b[0;32m    124\u001b[0m \u001b[38;5;250m\u001b[39m\u001b[38;5;124;03m\"\"\"\u001b[39;00m\n\u001b[0;32m    125\u001b[0m \u001b[38;5;124;03mLoad pickled pandas object (or any object) from file.\u001b[39;00m\n\u001b[0;32m    126\u001b[0m \n\u001b[1;32m   (...)\u001b[0m\n\u001b[0;32m    184\u001b[0m \u001b[38;5;124;03m4    4    9\u001b[39;00m\n\u001b[0;32m    185\u001b[0m \u001b[38;5;124;03m\"\"\"\u001b[39;00m  \u001b[38;5;66;03m# noqa: E501\u001b[39;00m\n\u001b[0;32m    186\u001b[0m excs_to_catch \u001b[38;5;241m=\u001b[39m (\u001b[38;5;167;01mAttributeError\u001b[39;00m, \u001b[38;5;167;01mImportError\u001b[39;00m, \u001b[38;5;167;01mModuleNotFoundError\u001b[39;00m, \u001b[38;5;167;01mTypeError\u001b[39;00m)\n\u001b[1;32m--> 187\u001b[0m \u001b[38;5;28;01mwith\u001b[39;00m \u001b[43mget_handle\u001b[49m\u001b[43m(\u001b[49m\n\u001b[0;32m    188\u001b[0m \u001b[43m    \u001b[49m\u001b[43mfilepath_or_buffer\u001b[49m\u001b[43m,\u001b[49m\n\u001b[0;32m    189\u001b[0m \u001b[43m    \u001b[49m\u001b[38;5;124;43m\"\u001b[39;49m\u001b[38;5;124;43mrb\u001b[39;49m\u001b[38;5;124;43m\"\u001b[39;49m\u001b[43m,\u001b[49m\n\u001b[0;32m    190\u001b[0m \u001b[43m    \u001b[49m\u001b[43mcompression\u001b[49m\u001b[38;5;241;43m=\u001b[39;49m\u001b[43mcompression\u001b[49m\u001b[43m,\u001b[49m\n\u001b[0;32m    191\u001b[0m \u001b[43m    \u001b[49m\u001b[43mis_text\u001b[49m\u001b[38;5;241;43m=\u001b[39;49m\u001b[38;5;28;43;01mFalse\u001b[39;49;00m\u001b[43m,\u001b[49m\n\u001b[0;32m    192\u001b[0m \u001b[43m    \u001b[49m\u001b[43mstorage_options\u001b[49m\u001b[38;5;241;43m=\u001b[39;49m\u001b[43mstorage_options\u001b[49m\u001b[43m,\u001b[49m\n\u001b[0;32m    193\u001b[0m \u001b[43m\u001b[49m\u001b[43m)\u001b[49m \u001b[38;5;28;01mas\u001b[39;00m handles:\n\u001b[0;32m    194\u001b[0m \n\u001b[0;32m    195\u001b[0m     \u001b[38;5;66;03m# 1) try standard library Pickle\u001b[39;00m\n\u001b[0;32m    196\u001b[0m     \u001b[38;5;66;03m# 2) try pickle_compat (older pandas version) to handle subclass changes\u001b[39;00m\n\u001b[0;32m    197\u001b[0m     \u001b[38;5;66;03m# 3) try pickle_compat with latin-1 encoding upon a UnicodeDecodeError\u001b[39;00m\n\u001b[0;32m    199\u001b[0m     \u001b[38;5;28;01mtry\u001b[39;00m:\n\u001b[0;32m    200\u001b[0m         \u001b[38;5;66;03m# TypeError for Cython complaints about object.__new__ vs Tick.__new__\u001b[39;00m\n\u001b[0;32m    201\u001b[0m         \u001b[38;5;28;01mtry\u001b[39;00m:\n",
      "File \u001b[1;32m~\\anaconda3\\lib\\site-packages\\pandas\\io\\common.py:795\u001b[0m, in \u001b[0;36mget_handle\u001b[1;34m(path_or_buf, mode, encoding, compression, memory_map, is_text, errors, storage_options)\u001b[0m\n\u001b[0;32m    786\u001b[0m         handle \u001b[38;5;241m=\u001b[39m \u001b[38;5;28mopen\u001b[39m(\n\u001b[0;32m    787\u001b[0m             handle,\n\u001b[0;32m    788\u001b[0m             ioargs\u001b[38;5;241m.\u001b[39mmode,\n\u001b[1;32m   (...)\u001b[0m\n\u001b[0;32m    791\u001b[0m             newline\u001b[38;5;241m=\u001b[39m\u001b[38;5;124m\"\u001b[39m\u001b[38;5;124m\"\u001b[39m,\n\u001b[0;32m    792\u001b[0m         )\n\u001b[0;32m    793\u001b[0m     \u001b[38;5;28;01melse\u001b[39;00m:\n\u001b[0;32m    794\u001b[0m         \u001b[38;5;66;03m# Binary mode\u001b[39;00m\n\u001b[1;32m--> 795\u001b[0m         handle \u001b[38;5;241m=\u001b[39m \u001b[38;5;28;43mopen\u001b[39;49m\u001b[43m(\u001b[49m\u001b[43mhandle\u001b[49m\u001b[43m,\u001b[49m\u001b[43m \u001b[49m\u001b[43mioargs\u001b[49m\u001b[38;5;241;43m.\u001b[39;49m\u001b[43mmode\u001b[49m\u001b[43m)\u001b[49m\n\u001b[0;32m    796\u001b[0m     handles\u001b[38;5;241m.\u001b[39mappend(handle)\n\u001b[0;32m    798\u001b[0m \u001b[38;5;66;03m# Convert BytesIO or file objects passed with an encoding\u001b[39;00m\n",
      "\u001b[1;31mFileNotFoundError\u001b[0m: [Errno 2] No such file or directory: 'g:\\\\Meu Drive\\\\Colab_Notebooks\\\\dash\\\\SUSano_Dash\\\\SUSanoGCP-V2\\\\df_MA_mes.pkl'"
     ]
    }
   ],
   "source": [
    "df = read_pkl(r'df_MA_mes.pkl')"
   ]
  },
  {
   "cell_type": "code",
   "execution_count": 12,
   "id": "958bf3f7",
   "metadata": {},
   "outputs": [
    {
     "data": {
      "text/html": [
       "<div>\n",
       "<style scoped>\n",
       "    .dataframe tbody tr th:only-of-type {\n",
       "        vertical-align: middle;\n",
       "    }\n",
       "\n",
       "    .dataframe tbody tr th {\n",
       "        vertical-align: top;\n",
       "    }\n",
       "\n",
       "    .dataframe thead th {\n",
       "        text-align: right;\n",
       "    }\n",
       "</style>\n",
       "<table border=\"1\" class=\"dataframe\">\n",
       "  <thead>\n",
       "    <tr style=\"text-align: right;\">\n",
       "      <th></th>\n",
       "      <th>IBGE_Res</th>\n",
       "      <th>Cod_Alvo</th>\n",
       "      <th>Mês</th>\n",
       "      <th>Qtd_MA_mês</th>\n",
       "      <th>Valor_MA_mês</th>\n",
       "      <th>Excesso_MA_mês</th>\n",
       "    </tr>\n",
       "  </thead>\n",
       "  <tbody>\n",
       "    <tr>\n",
       "      <th>250414</th>\n",
       "      <td>160030</td>\n",
       "      <td>040505-A</td>\n",
       "      <td>5</td>\n",
       "      <td>5224</td>\n",
       "      <td>1993529.03</td>\n",
       "      <td>1.440427e+06</td>\n",
       "    </tr>\n",
       "    <tr>\n",
       "      <th>249008</th>\n",
       "      <td>160027</td>\n",
       "      <td>040505-A</td>\n",
       "      <td>8</td>\n",
       "      <td>2415</td>\n",
       "      <td>1463821.75</td>\n",
       "      <td>1.366994e+06</td>\n",
       "    </tr>\n",
       "    <tr>\n",
       "      <th>249009</th>\n",
       "      <td>160027</td>\n",
       "      <td>040505-A</td>\n",
       "      <td>9</td>\n",
       "      <td>2612</td>\n",
       "      <td>1147157.88</td>\n",
       "      <td>1.067755e+06</td>\n",
       "    </tr>\n",
       "    <tr>\n",
       "      <th>252099</th>\n",
       "      <td>160050</td>\n",
       "      <td>040505-A</td>\n",
       "      <td>11</td>\n",
       "      <td>2306</td>\n",
       "      <td>1120110.12</td>\n",
       "      <td>1.053568e+06</td>\n",
       "    </tr>\n",
       "    <tr>\n",
       "      <th>2696201</th>\n",
       "      <td>350010</td>\n",
       "      <td>030317-H</td>\n",
       "      <td>1</td>\n",
       "      <td>558</td>\n",
       "      <td>1098406.63</td>\n",
       "      <td>1.021813e+06</td>\n",
       "    </tr>\n",
       "    <tr>\n",
       "      <th>...</th>\n",
       "      <td>...</td>\n",
       "      <td>...</td>\n",
       "      <td>...</td>\n",
       "      <td>...</td>\n",
       "      <td>...</td>\n",
       "      <td>...</td>\n",
       "    </tr>\n",
       "    <tr>\n",
       "      <th>1651596</th>\n",
       "      <td>292530</td>\n",
       "      <td>040505-A</td>\n",
       "      <td>8</td>\n",
       "      <td>44</td>\n",
       "      <td>14886.52</td>\n",
       "      <td>0.000000e+00</td>\n",
       "    </tr>\n",
       "    <tr>\n",
       "      <th>1651595</th>\n",
       "      <td>292530</td>\n",
       "      <td>040505-A</td>\n",
       "      <td>7</td>\n",
       "      <td>52</td>\n",
       "      <td>19410.45</td>\n",
       "      <td>0.000000e+00</td>\n",
       "    </tr>\n",
       "    <tr>\n",
       "      <th>1651594</th>\n",
       "      <td>292530</td>\n",
       "      <td>040505-A</td>\n",
       "      <td>6</td>\n",
       "      <td>53</td>\n",
       "      <td>21358.20</td>\n",
       "      <td>0.000000e+00</td>\n",
       "    </tr>\n",
       "    <tr>\n",
       "      <th>1651593</th>\n",
       "      <td>292530</td>\n",
       "      <td>040505-A</td>\n",
       "      <td>5</td>\n",
       "      <td>47</td>\n",
       "      <td>18244.75</td>\n",
       "      <td>0.000000e+00</td>\n",
       "    </tr>\n",
       "    <tr>\n",
       "      <th>4877056</th>\n",
       "      <td>530010</td>\n",
       "      <td>080301-A</td>\n",
       "      <td>12</td>\n",
       "      <td>139</td>\n",
       "      <td>826.65</td>\n",
       "      <td>0.000000e+00</td>\n",
       "    </tr>\n",
       "  </tbody>\n",
       "</table>\n",
       "<p>4877057 rows × 6 columns</p>\n",
       "</div>"
      ],
      "text/plain": [
       "        IBGE_Res  Cod_Alvo  Mês  Qtd_MA_mês  Valor_MA_mês  Excesso_MA_mês\n",
       "250414    160030  040505-A    5        5224    1993529.03    1.440427e+06\n",
       "249008    160027  040505-A    8        2415    1463821.75    1.366994e+06\n",
       "249009    160027  040505-A    9        2612    1147157.88    1.067755e+06\n",
       "252099    160050  040505-A   11        2306    1120110.12    1.053568e+06\n",
       "2696201   350010  030317-H    1         558    1098406.63    1.021813e+06\n",
       "...          ...       ...  ...         ...           ...             ...\n",
       "1651596   292530  040505-A    8          44      14886.52    0.000000e+00\n",
       "1651595   292530  040505-A    7          52      19410.45    0.000000e+00\n",
       "1651594   292530  040505-A    6          53      21358.20    0.000000e+00\n",
       "1651593   292530  040505-A    5          47      18244.75    0.000000e+00\n",
       "4877056   530010  080301-A   12         139        826.65    0.000000e+00\n",
       "\n",
       "[4877057 rows x 6 columns]"
      ]
     },
     "execution_count": 12,
     "metadata": {},
     "output_type": "execute_result"
    }
   ],
   "source": [
    "df"
   ]
  },
  {
   "cell_type": "code",
   "execution_count": 14,
   "id": "7c100c4b",
   "metadata": {},
   "outputs": [
    {
     "data": {
      "text/plain": [
       "'g:\\\\Meu Drive\\\\Colab_Notebooks\\\\dash\\\\SUSano_Dash\\\\SUSanoGCP-V2'"
      ]
     },
     "execution_count": 14,
     "metadata": {},
     "output_type": "execute_result"
    }
   ],
   "source": [
    "cwd"
   ]
  },
  {
   "cell_type": "code",
   "execution_count": null,
   "id": "73f4c474",
   "metadata": {},
   "outputs": [],
   "source": []
  }
 ],
 "metadata": {
  "kernelspec": {
   "display_name": "Python 3 (ipykernel)",
   "language": "python",
   "name": "python3"
  },
  "language_info": {
   "codemirror_mode": {
    "name": "ipython",
    "version": 3
   },
   "file_extension": ".py",
   "mimetype": "text/x-python",
   "name": "python",
   "nbconvert_exporter": "python",
   "pygments_lexer": "ipython3",
   "version": "3.9.13"
  },
  "toc": {
   "base_numbering": 1,
   "nav_menu": {},
   "number_sections": true,
   "sideBar": true,
   "skip_h1_title": false,
   "title_cell": "Table of Contents",
   "title_sidebar": "Contents",
   "toc_cell": false,
   "toc_position": {},
   "toc_section_display": true,
   "toc_window_display": false
  }
 },
 "nbformat": 4,
 "nbformat_minor": 5
}
