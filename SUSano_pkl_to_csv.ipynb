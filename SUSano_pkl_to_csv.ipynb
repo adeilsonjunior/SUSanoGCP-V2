{
 "cells": [
  {
   "cell_type": "code",
   "execution_count": 1,
   "id": "48e1478d",
   "metadata": {},
   "outputs": [],
   "source": [
    "import pandas as pd\n",
    "import os\n",
    "import sys"
   ]
  },
  {
   "cell_type": "code",
   "execution_count": 2,
   "id": "89bb51ad",
   "metadata": {},
   "outputs": [
    {
     "name": "stdout",
     "output_type": "stream",
     "text": [
      "data_files_path='.\\\\Dados\\\\2021', csv_files_path='.\\\\Dados\\\\2021\\\\csv_files'\n"
     ]
    }
   ],
   "source": [
    "ano_susano = '2021'\n",
    "data_files_path = os.path.join('.','Dados', ano_susano)\n",
    "csv_files_path = os.path.join(data_files_path, 'csv_files')\n",
    "print(f'{data_files_path=}, {csv_files_path=}')\n",
    "tmp_path = os.path.join('/tmp')\n",
    "pkl_source = 'LOCAL'\n",
    "\n",
    "all_pkls = []"
   ]
  },
  {
   "cell_type": "code",
   "execution_count": 3,
   "id": "fff18c4d",
   "metadata": {},
   "outputs": [],
   "source": [
    "os.mkdir(csv_files_path)"
   ]
  },
  {
   "cell_type": "code",
   "execution_count": 15,
   "id": "003da557",
   "metadata": {},
   "outputs": [],
   "source": [
    "def read_pkl(pkl_file):\n",
    "    local_path = os.path.join(data_files_path, pkl_file)\n",
    "    print(f'read_pkl: {local_path=}')\n",
    "\n",
    "    df = pd.read_pickle(local_path)\n",
    "\n",
    "    all_pkls.append(pkl_file)\n",
    "    return df"
   ]
  },
  {
   "cell_type": "code",
   "execution_count": 7,
   "id": "811f3efd",
   "metadata": {},
   "outputs": [],
   "source": [
    "pkl_files = [f for f in os.listdir(data_files_path) if f.endswith('.pkl')]"
   ]
  },
  {
   "cell_type": "code",
   "execution_count": 8,
   "id": "0161c8ab",
   "metadata": {},
   "outputs": [
    {
     "data": {
      "text/plain": [
       "['df_A.pkl',\n",
       " 'df_alvo_mes_limiar.pkl',\n",
       " 'df_capitais.pkl',\n",
       " 'df_E.pkl',\n",
       " 'df_EMA.pkl',\n",
       " 'df_EMA_mes.pkl',\n",
       " 'df_grupos.pkl',\n",
       " 'df_M.pkl',\n",
       " 'df_MA.pkl',\n",
       " 'df_MA_mes.pkl',\n",
       " 'df_pop_UF.pkl',\n",
       " 'df_subgrupos.pkl',\n",
       " 'df_UF_A_mes.pkl']"
      ]
     },
     "execution_count": 8,
     "metadata": {},
     "output_type": "execute_result"
    }
   ],
   "source": [
    "pkl_files"
   ]
  },
  {
   "cell_type": "code",
   "execution_count": 19,
   "id": "2ff3c679",
   "metadata": {},
   "outputs": [
    {
     "name": "stdout",
     "output_type": "stream",
     "text": [
      "read_pkl: local_path='.\\\\Dados\\\\2021\\\\df_A.pkl'\n",
      "read_pkl: local_path='.\\\\Dados\\\\2021\\\\df_alvo_mes_limiar.pkl'\n",
      "read_pkl: local_path='.\\\\Dados\\\\2021\\\\df_capitais.pkl'\n",
      "read_pkl: local_path='.\\\\Dados\\\\2021\\\\df_E.pkl'\n",
      "read_pkl: local_path='.\\\\Dados\\\\2021\\\\df_EMA.pkl'\n",
      "read_pkl: local_path='.\\\\Dados\\\\2021\\\\df_EMA_mes.pkl'\n",
      "read_pkl: local_path='.\\\\Dados\\\\2021\\\\df_grupos.pkl'\n",
      "read_pkl: local_path='.\\\\Dados\\\\2021\\\\df_M.pkl'\n",
      "read_pkl: local_path='.\\\\Dados\\\\2021\\\\df_MA.pkl'\n",
      "read_pkl: local_path='.\\\\Dados\\\\2021\\\\df_MA_mes.pkl'\n",
      "read_pkl: local_path='.\\\\Dados\\\\2021\\\\df_pop_UF.pkl'\n",
      "read_pkl: local_path='.\\\\Dados\\\\2021\\\\df_subgrupos.pkl'\n",
      "read_pkl: local_path='.\\\\Dados\\\\2021\\\\df_UF_A_mes.pkl'\n"
     ]
    }
   ],
   "source": [
    "for pkl_file in pkl_files:\n",
    "    csv_zip_file = pkl_file.replace('.pkl', '.zip')\n",
    "    df = read_pkl(pkl_file)\n",
    "    df.to_csv(os.path.join(csv_files_path, csv_zip_file), index=False)"
   ]
  },
  {
   "cell_type": "code",
   "execution_count": null,
   "id": "ab6abdf2",
   "metadata": {},
   "outputs": [],
   "source": [
    "dtypes_EMA = {'CNES':str,\n",
    "             'IBGE_Res':str,\n",
    "             'IBGE_Estab': str,\n",
    "             'IBGE_CAPITAL': str,\n",
    "             'CO_GRUPO': str,\n",
    "             'CO_GRUPO_SUBGRUPO': str}"
   ]
  },
  {
   "cell_type": "code",
   "execution_count": null,
   "id": "687a7b58",
   "metadata": {},
   "outputs": [],
   "source": [
    "# Teste leitura\n",
    "zip_file = 'df_subgrupos.zip'\n",
    "df = pd.read_csv(os.path.join(csv_files_path, zip_file), dtype=dtypes_EMA)"
   ]
  },
  {
   "cell_type": "code",
   "execution_count": null,
   "id": "2e44a87f",
   "metadata": {
    "scrolled": true
   },
   "outputs": [],
   "source": [
    "df"
   ]
  },
  {
   "cell_type": "code",
   "execution_count": 17,
   "id": "107e081c",
   "metadata": {},
   "outputs": [
    {
     "name": "stdout",
     "output_type": "stream",
     "text": [
      "read_pkl: local_path='.\\\\Dados\\\\2021\\\\df_MA_mes.pkl'\n"
     ]
    }
   ],
   "source": [
    "df = read_pkl('df_MA_mes.pkl')"
   ]
  },
  {
   "cell_type": "code",
   "execution_count": 18,
   "id": "aaeecf48",
   "metadata": {},
   "outputs": [
    {
     "data": {
      "text/html": [
       "<div>\n",
       "<style scoped>\n",
       "    .dataframe tbody tr th:only-of-type {\n",
       "        vertical-align: middle;\n",
       "    }\n",
       "\n",
       "    .dataframe tbody tr th {\n",
       "        vertical-align: top;\n",
       "    }\n",
       "\n",
       "    .dataframe thead th {\n",
       "        text-align: right;\n",
       "    }\n",
       "</style>\n",
       "<table border=\"1\" class=\"dataframe\">\n",
       "  <thead>\n",
       "    <tr style=\"text-align: right;\">\n",
       "      <th></th>\n",
       "      <th>IBGE_Res</th>\n",
       "      <th>Cod_Alvo</th>\n",
       "      <th>Mês</th>\n",
       "      <th>Qtd_MA_mês</th>\n",
       "      <th>Valor_MA_mês</th>\n",
       "      <th>Excesso_MA_mês</th>\n",
       "    </tr>\n",
       "  </thead>\n",
       "  <tbody>\n",
       "    <tr>\n",
       "      <th>250414</th>\n",
       "      <td>160030</td>\n",
       "      <td>040505-A</td>\n",
       "      <td>5</td>\n",
       "      <td>5224</td>\n",
       "      <td>1993529.03</td>\n",
       "      <td>1.440427e+06</td>\n",
       "    </tr>\n",
       "    <tr>\n",
       "      <th>249008</th>\n",
       "      <td>160027</td>\n",
       "      <td>040505-A</td>\n",
       "      <td>8</td>\n",
       "      <td>2415</td>\n",
       "      <td>1463821.75</td>\n",
       "      <td>1.366994e+06</td>\n",
       "    </tr>\n",
       "    <tr>\n",
       "      <th>249009</th>\n",
       "      <td>160027</td>\n",
       "      <td>040505-A</td>\n",
       "      <td>9</td>\n",
       "      <td>2612</td>\n",
       "      <td>1147157.88</td>\n",
       "      <td>1.067755e+06</td>\n",
       "    </tr>\n",
       "    <tr>\n",
       "      <th>252099</th>\n",
       "      <td>160050</td>\n",
       "      <td>040505-A</td>\n",
       "      <td>11</td>\n",
       "      <td>2306</td>\n",
       "      <td>1120110.12</td>\n",
       "      <td>1.053568e+06</td>\n",
       "    </tr>\n",
       "    <tr>\n",
       "      <th>2696201</th>\n",
       "      <td>350010</td>\n",
       "      <td>030317-H</td>\n",
       "      <td>1</td>\n",
       "      <td>558</td>\n",
       "      <td>1098406.63</td>\n",
       "      <td>1.021813e+06</td>\n",
       "    </tr>\n",
       "    <tr>\n",
       "      <th>...</th>\n",
       "      <td>...</td>\n",
       "      <td>...</td>\n",
       "      <td>...</td>\n",
       "      <td>...</td>\n",
       "      <td>...</td>\n",
       "      <td>...</td>\n",
       "    </tr>\n",
       "    <tr>\n",
       "      <th>1651596</th>\n",
       "      <td>292530</td>\n",
       "      <td>040505-A</td>\n",
       "      <td>8</td>\n",
       "      <td>44</td>\n",
       "      <td>14886.52</td>\n",
       "      <td>0.000000e+00</td>\n",
       "    </tr>\n",
       "    <tr>\n",
       "      <th>1651595</th>\n",
       "      <td>292530</td>\n",
       "      <td>040505-A</td>\n",
       "      <td>7</td>\n",
       "      <td>52</td>\n",
       "      <td>19410.45</td>\n",
       "      <td>0.000000e+00</td>\n",
       "    </tr>\n",
       "    <tr>\n",
       "      <th>1651594</th>\n",
       "      <td>292530</td>\n",
       "      <td>040505-A</td>\n",
       "      <td>6</td>\n",
       "      <td>53</td>\n",
       "      <td>21358.20</td>\n",
       "      <td>0.000000e+00</td>\n",
       "    </tr>\n",
       "    <tr>\n",
       "      <th>1651593</th>\n",
       "      <td>292530</td>\n",
       "      <td>040505-A</td>\n",
       "      <td>5</td>\n",
       "      <td>47</td>\n",
       "      <td>18244.75</td>\n",
       "      <td>0.000000e+00</td>\n",
       "    </tr>\n",
       "    <tr>\n",
       "      <th>4877056</th>\n",
       "      <td>530010</td>\n",
       "      <td>080301-A</td>\n",
       "      <td>12</td>\n",
       "      <td>139</td>\n",
       "      <td>826.65</td>\n",
       "      <td>0.000000e+00</td>\n",
       "    </tr>\n",
       "  </tbody>\n",
       "</table>\n",
       "<p>4877057 rows × 6 columns</p>\n",
       "</div>"
      ],
      "text/plain": [
       "        IBGE_Res  Cod_Alvo  Mês  Qtd_MA_mês  Valor_MA_mês  Excesso_MA_mês\n",
       "250414    160030  040505-A    5        5224    1993529.03    1.440427e+06\n",
       "249008    160027  040505-A    8        2415    1463821.75    1.366994e+06\n",
       "249009    160027  040505-A    9        2612    1147157.88    1.067755e+06\n",
       "252099    160050  040505-A   11        2306    1120110.12    1.053568e+06\n",
       "2696201   350010  030317-H    1         558    1098406.63    1.021813e+06\n",
       "...          ...       ...  ...         ...           ...             ...\n",
       "1651596   292530  040505-A    8          44      14886.52    0.000000e+00\n",
       "1651595   292530  040505-A    7          52      19410.45    0.000000e+00\n",
       "1651594   292530  040505-A    6          53      21358.20    0.000000e+00\n",
       "1651593   292530  040505-A    5          47      18244.75    0.000000e+00\n",
       "4877056   530010  080301-A   12         139        826.65    0.000000e+00\n",
       "\n",
       "[4877057 rows x 6 columns]"
      ]
     },
     "execution_count": 18,
     "metadata": {},
     "output_type": "execute_result"
    }
   ],
   "source": [
    "df"
   ]
  },
  {
   "cell_type": "code",
   "execution_count": 14,
   "id": "98a59aff",
   "metadata": {},
   "outputs": [
    {
     "data": {
      "text/plain": [
       "'g:\\\\Meu Drive\\\\Colab_Notebooks\\\\dash\\\\SUSano_Dash\\\\SUSanoGCP-V2'"
      ]
     },
     "execution_count": 14,
     "metadata": {},
     "output_type": "execute_result"
    }
   ],
   "source": [
    "cwd"
   ]
  },
  {
   "cell_type": "code",
   "execution_count": null,
   "id": "0431fcb2",
   "metadata": {},
   "outputs": [],
   "source": []
  }
 ],
 "metadata": {
  "kernelspec": {
   "display_name": "Python 3 (ipykernel)",
   "language": "python",
   "name": "python3"
  },
  "language_info": {
   "codemirror_mode": {
    "name": "ipython",
    "version": 3
   },
   "file_extension": ".py",
   "mimetype": "text/x-python",
   "name": "python",
   "nbconvert_exporter": "python",
   "pygments_lexer": "ipython3",
   "version": "3.9.13"
  },
  "toc": {
   "base_numbering": 1,
   "nav_menu": {},
   "number_sections": true,
   "sideBar": true,
   "skip_h1_title": false,
   "title_cell": "Table of Contents",
   "title_sidebar": "Contents",
   "toc_cell": false,
   "toc_position": {},
   "toc_section_display": true,
   "toc_window_display": false
  }
 },
 "nbformat": 4,
 "nbformat_minor": 5
}
