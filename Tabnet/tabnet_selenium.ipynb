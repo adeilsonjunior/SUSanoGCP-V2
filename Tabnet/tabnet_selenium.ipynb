{
 "cells": [
  {
   "cell_type": "code",
   "execution_count": 1,
   "id": "1af3b2d5",
   "metadata": {},
   "outputs": [],
   "source": [
    "from selenium import webdriver\n",
    "from selenium.webdriver.common.by import By\n",
    "from selenium.webdriver.support.select import Select\n",
    "import pandas as pd"
   ]
  },
  {
   "cell_type": "code",
   "execution_count": 2,
   "id": "5b46ef61",
   "metadata": {},
   "outputs": [],
   "source": [
    "# Copiar o comando abaixo da escolha do SUSano\n",
    "ano = '2022'; CNES = '2602857'; IBGE = '291080'; forma = '030309-A'"
   ]
  },
  {
   "cell_type": "code",
   "execution_count": 7,
   "id": "9e3ef326",
   "metadata": {},
   "outputs": [],
   "source": [
    "dtypes_EMA = {'CNES':str,\n",
    "             'IBGE_Res':str,\n",
    "             'IBGE_Estab': str,\n",
    "             'IBGE_CAPITAL': str,\n",
    "             'CO_GRUPO': str,\n",
    "             'CO_GRUPO_SUBGRUPO': str}"
   ]
  },
  {
   "cell_type": "code",
   "execution_count": 8,
   "id": "793fa8a8",
   "metadata": {},
   "outputs": [],
   "source": [
    "df_capitais = pd.read_csv(f'../Dados/{ano}/df_capitais.zip', dtype=dtypes_EMA)\n",
    "df_capitais['IBGE_UF'] = df_capitais['IBGE_CAPITAL'].str[:2]\n",
    "ibge_uf_to_nome_uf = df_capitais.set_index(['IBGE_UF'])['NOME_UF']\n",
    "ibge_uf_to_ibge_capital = df_capitais.set_index(['IBGE_UF'])['IBGE_CAPITAL']"
   ]
  },
  {
   "cell_type": "code",
   "execution_count": 9,
   "id": "8f1fa5eb",
   "metadata": {},
   "outputs": [
    {
     "data": {
      "text/plain": [
       "('Bahia', '291080', '292740')"
      ]
     },
     "execution_count": 9,
     "metadata": {},
     "output_type": "execute_result"
    }
   ],
   "source": [
    "UF = ibge_uf_to_nome_uf[IBGE[:2]]\n",
    "IBGE_cidade = IBGE\n",
    "IBGE_capital = ibge_uf_to_ibge_capital[IBGE[:2]]\n",
    "UF, IBGE_cidade, IBGE_capital"
   ]
  },
  {
   "cell_type": "code",
   "execution_count": null,
   "id": "ff5c3d20",
   "metadata": {},
   "outputs": [],
   "source": []
  },
  {
   "cell_type": "code",
   "execution_count": 10,
   "id": "37bd6e03",
   "metadata": {},
   "outputs": [],
   "source": [
    "def tabnet_cidade_e_capital(driver, ano, UF, IBGE_cidade, IBGE_capital, forma):\n",
    "    url_sih = \"https://datasus.saude.gov.br/acesso-a-informacao/producao-hospitalar-sih-sus/\"\n",
    "    url_sia = 'https://datasus.saude.gov.br/acesso-a-informacao/producao-ambulatorial-sia-sus/'\n",
    "    ends_with_sih = 'qr'\n",
    "    ends_with_sia = 'qb'\n",
    "    id_botão_forma_sih = 'fig12'\n",
    "    id_botão_forma_sia = 'fig10'\n",
    "\n",
    "    if forma.endswith('H'):\n",
    "        url = url_sih\n",
    "        ends_with = ends_with_sih\n",
    "        id_botão_forma = id_botão_forma_sih\n",
    "    else:\n",
    "        url = url_sia\n",
    "        ends_with = ends_with_sia\n",
    "        id_botão_forma = id_botão_forma_sia\n",
    "\n",
    "    forma = forma[:6]\n",
    "\n",
    "    driver.get(url)\n",
    "    print(f'{driver.title=}')\n",
    "\n",
    "    radiobuttons = driver.find_elements(By.NAME, \"radiobutton\")\n",
    "    for r in radiobuttons:\n",
    "        if r.get_attribute(\"value\").endswith(ends_with):\n",
    "            r.click()\n",
    "    # endswith seleciona Dados Consolidados por local de residência, a partir de 2008\n",
    "\n",
    "    select_abrangência = Select(driver.find_element(By.ID, 'mySelect'))\n",
    "    select_abrangência.select_by_visible_text(UF)\n",
    "    # Tabnet muda para página de seleção\n",
    "\n",
    "    meses = 'Jan Fev Mar Abr Mai Jun Jul Ago Set Out Nov Dez'.split()\n",
    "    períodos = [f'{mês}/{ano}' for mês in meses]\n",
    "\n",
    "    select_período = Select(driver.find_element(By.ID, 'A'))\n",
    "    for período in períodos:\n",
    "        select_período.select_by_visible_text(período)\n",
    "    print('Períodos selecionados:')\n",
    "    for opc in select_período.all_selected_options:\n",
    "        if not opc.text in períodos:\n",
    "            select_período.deselect_by_visible_text(opc.text)\n",
    "            print(f'{opc.text} eliminado')\n",
    "        else:\n",
    "            print(opc.text, end=', ')\n",
    "\n",
    "    botão_município = driver.find_element(By.ID, 'fig1')\n",
    "    botão_município.click()  # Abre a seleção de municípios\n",
    "    select_município = Select(driver.find_element(By.NAME, 'SMunicípio'))\n",
    "    opções_município = select_município.options\n",
    "    for opc in opções_município:\n",
    "        for ibge in [IBGE_cidade, IBGE_capital]:\n",
    "            if opc.text.startswith(ibge):\n",
    "                select_município.select_by_visible_text(opc.text)\n",
    "    select_município.deselect_by_visible_text('Todas as categorias')\n",
    "    print('Municípios selecionados:')\n",
    "    for opc in select_município.all_selected_options:\n",
    "        print(opc.text)\n",
    "    botão_município.click()  # Fecha a seleção de municípios\n",
    "\n",
    "    botão_forma = driver.find_element(By.ID, id_botão_forma)\n",
    "    botão_forma.click()  # Abre a seleção de formas de organização\n",
    "    select_forma = Select(driver.find_element(By.NAME, 'SForma_organização'))\n",
    "    opções_forma = select_forma.options\n",
    "    for opc in opções_forma:\n",
    "        if opc.text.startswith(forma):\n",
    "            select_forma.select_by_visible_text(opc.text)\n",
    "    select_forma.deselect_by_visible_text('Todas as categorias')\n",
    "    print('Formas de organização selecionadas:')\n",
    "    for opc in select_forma.all_selected_options:\n",
    "        print(opc.text)\n",
    "    botão_forma.click()  # Fecha a seleção de formas de organização\n",
    "\n",
    "    botão_mostra = driver.find_element(By.NAME, 'mostre')\n",
    "    botão_mostra.click()\n",
    "    return 'ok'"
   ]
  },
  {
   "cell_type": "code",
   "execution_count": 11,
   "id": "a87101d6",
   "metadata": {},
   "outputs": [],
   "source": [
    "def tabnet_distribuição(driver, ano, UF, IBGE_cidade, forma):\n",
    "    url_sih = \"https://datasus.saude.gov.br/acesso-a-informacao/producao-hospitalar-sih-sus/\"\n",
    "    url_sia = 'https://datasus.saude.gov.br/acesso-a-informacao/producao-ambulatorial-sia-sus/'\n",
    "    ends_with_sih = 'qr'\n",
    "    ends_with_sia = 'qb'\n",
    "    id_botão_forma_sih = 'fig12'\n",
    "    id_botão_forma_sia = 'fig10'\n",
    "    \n",
    "    \n",
    "    if forma.endswith('H'):\n",
    "        url = url_sih\n",
    "        ends_with = ends_with_sih\n",
    "        id_botão_forma = id_botão_forma_sih\n",
    "    else:\n",
    "        print(f'O Tabnet SIA não mostra a distribuição por estabelecimento')\n",
    "        return 'Erro'\n",
    "        \n",
    "    forma = forma[:6]\n",
    "    \n",
    "    driver.get(url)\n",
    "    print(f'{driver.title=}')\n",
    "    \n",
    "    radiobuttons = driver.find_elements(By.NAME, \"radiobutton\")\n",
    "    for r in radiobuttons:\n",
    "        if r.get_attribute(\"value\").endswith(ends_with):\n",
    "            r.click()\n",
    "    # endswith seleciona Dados Consolidados por local de residência, a partir de 2008\n",
    "    \n",
    "    select_abrangência = Select(driver.find_element(By.ID, 'mySelect'))\n",
    "    select_abrangência.select_by_visible_text(UF)\n",
    "    # Tabnet muda para página de seleção\n",
    "    \n",
    "    meses = 'Jan Fev Mar Abr Mai Jun Jul Ago Set Out Nov Dez'.split()\n",
    "    períodos = [f'{mês}/{ano}' for mês in meses]\n",
    "    \n",
    "    select_período = Select(driver.find_element(By.ID, 'A'))\n",
    "    for período in períodos:\n",
    "        select_período.select_by_visible_text(período)\n",
    "    print('Períodos selecionados:')\n",
    "    for opc in select_período.all_selected_options:\n",
    "        if not opc.text in períodos:\n",
    "            select_período.deselect_by_visible_text(opc.text)\n",
    "            print(f'{opc.text} eliminado')\n",
    "        else:\n",
    "            print(opc.text, end=', ')\n",
    "    print('\\n')\n",
    "        \n",
    "    botão_município = driver.find_element(By.ID, 'fig1')\n",
    "    botão_município.click() # Abre a seleção de municípios   \n",
    "    select_município = Select(driver.find_element(By.NAME, 'SMunicípio'))\n",
    "    opções_município = select_município.options\n",
    "    for opc in opções_município:\n",
    "        if opc.text.startswith(IBGE_cidade):\n",
    "            select_município.select_by_visible_text(opc.text)\n",
    "    select_município.deselect_by_visible_text('Todas as categorias')\n",
    "    print('Municípios selecionados:')\n",
    "    for opc in select_município.all_selected_options:\n",
    "        print(opc.text)\n",
    "    botão_município.click() # Fecha a seleção de municípios\n",
    "    \n",
    "    botão_forma = driver.find_element(By.ID, id_botão_forma)\n",
    "    botão_forma.click() # Abre a seleção de formas de organização\n",
    "    select_forma = Select(driver.find_element(By.NAME, 'SForma_organização'))\n",
    "    opções_forma = select_forma.options\n",
    "    for opc in opções_forma:\n",
    "        if opc.text.startswith(forma):\n",
    "            select_forma.select_by_visible_text(opc.text)\n",
    "    select_forma.deselect_by_visible_text('Todas as categorias')\n",
    "    print('Formas de organização selecionadas:')\n",
    "    for opc in select_forma.all_selected_options:\n",
    "        print(opc.text)\n",
    "    botão_forma.click() # Fecha a seleção de formas de organização\n",
    "    \n",
    "    select_linha = Select(driver.find_element(By.NAME, 'Linha'))\n",
    "    select_linha.select_by_visible_text('Estabelecimento')\n",
    "    \n",
    "    check_ordena = driver.find_element(By.ID, \"O\")\n",
    "    check_ordena.click()\n",
    "    \n",
    "    botão_mostra = driver.find_element(By.NAME, 'mostre')\n",
    "    botão_mostra.click()\n",
    "    return 'ok'"
   ]
  },
  {
   "cell_type": "code",
   "execution_count": 12,
   "id": "b5e083bd",
   "metadata": {},
   "outputs": [],
   "source": [
    "driver = webdriver.Chrome() "
   ]
  },
  {
   "cell_type": "code",
   "execution_count": 13,
   "id": "4173ab85",
   "metadata": {
    "scrolled": true
   },
   "outputs": [
    {
     "name": "stdout",
     "output_type": "stream",
     "text": [
      "driver.title='Produção Ambulatorial (SIA/SUS) – DATASUS'\n",
      "Períodos selecionados:\n",
      "Out/2023 eliminado\n",
      "Dez/2022, Nov/2022, Out/2022, Set/2022, Ago/2022, Jul/2022, Jun/2022, Mai/2022, Abr/2022, Mar/2022, Fev/2022, Jan/2022, Municípios selecionados:\n",
      "291080 FEIRA DE SANTANA\n",
      "292740 SALVADOR\n",
      "Formas de organização selecionadas:\n",
      "030309 Tratamento de doenças do sistema osteomuscular e do tecido conjuntivo\n"
     ]
    },
    {
     "data": {
      "text/plain": [
       "'ok'"
      ]
     },
     "execution_count": 13,
     "metadata": {},
     "output_type": "execute_result"
    }
   ],
   "source": [
    "tabnet_cidade_e_capital(driver, ano, UF, IBGE_cidade, IBGE_capital, forma)"
   ]
  },
  {
   "cell_type": "code",
   "execution_count": null,
   "id": "f490d6a0",
   "metadata": {},
   "outputs": [],
   "source": [
    "tabnet_distribuição(driver, ano, UF, IBGE_cidade, forma)"
   ]
  },
  {
   "cell_type": "code",
   "execution_count": null,
   "id": "c6bb1b77",
   "metadata": {},
   "outputs": [],
   "source": [
    "driver.close()"
   ]
  },
  {
   "cell_type": "code",
   "execution_count": null,
   "id": "096f1f44",
   "metadata": {},
   "outputs": [],
   "source": [
    "driver = webdriver.Chrome()"
   ]
  },
  {
   "cell_type": "code",
   "execution_count": null,
   "id": "4908dc7e",
   "metadata": {},
   "outputs": [],
   "source": [
    "def ficha_cnes(driver, CNES):\n",
    "    url_cnes = 'http://cnes.datasus.gov.br/pages/estabelecimentos/consulta.jsp'\n",
    "\n",
    "    driver.get(url_cnes)\n",
    "\n",
    "    input_pesquisa = driver.find_element(By.ID, 'pesquisaValue')\n",
    "    input_pesquisa.send_keys(CNES)\n",
    "\n",
    "    botão_pesquisa = driver.find_element(By.XPATH, '//button[text()=\"Pesquisar\"]')\n",
    "    botão_pesquisa.click()\n"
   ]
  },
  {
   "cell_type": "code",
   "execution_count": null,
   "id": "43e0e122",
   "metadata": {},
   "outputs": [],
   "source": [
    "link_ficha = ficha_cnes(driver, CNES)"
   ]
  },
  {
   "cell_type": "code",
   "execution_count": null,
   "id": "2fbd38f4",
   "metadata": {},
   "outputs": [],
   "source": [
    "link_ficha.get_attribute(\"href\")"
   ]
  },
  {
   "cell_type": "code",
   "execution_count": null,
   "id": "adcb8585",
   "metadata": {},
   "outputs": [],
   "source": []
  },
  {
   "cell_type": "code",
   "execution_count": null,
   "id": "cc0c1261",
   "metadata": {},
   "outputs": [],
   "source": [
    "from selenium.webdriver.common.action_chains import ActionChains"
   ]
  },
  {
   "cell_type": "code",
   "execution_count": null,
   "id": "6f13bfd7",
   "metadata": {},
   "outputs": [],
   "source": [
    "ActionChains(driver).move_to_element(link_ficha).click(link_ficha).perform()"
   ]
  },
  {
   "cell_type": "code",
   "execution_count": null,
   "id": "a053e13c",
   "metadata": {},
   "outputs": [],
   "source": []
  }
 ],
 "metadata": {
  "kernelspec": {
   "display_name": "Python 3 (ipykernel)",
   "language": "python",
   "name": "python3"
  },
  "language_info": {
   "codemirror_mode": {
    "name": "ipython",
    "version": 3
   },
   "file_extension": ".py",
   "mimetype": "text/x-python",
   "name": "python",
   "nbconvert_exporter": "python",
   "pygments_lexer": "ipython3",
   "version": "3.9.13"
  },
  "toc": {
   "base_numbering": 1,
   "nav_menu": {},
   "number_sections": true,
   "sideBar": true,
   "skip_h1_title": false,
   "title_cell": "Table of Contents",
   "title_sidebar": "Contents",
   "toc_cell": false,
   "toc_position": {},
   "toc_section_display": true,
   "toc_window_display": false
  }
 },
 "nbformat": 4,
 "nbformat_minor": 5
}
