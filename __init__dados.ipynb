{
 "cells": [
  {
   "cell_type": "code",
   "execution_count": 1,
   "id": "24936a01",
   "metadata": {},
   "outputs": [],
   "source": [
    "import pandas as pd\n",
    "import numpy as np\n",
    "import os\n",
    "import sys"
   ]
  },
  {
   "cell_type": "code",
   "execution_count": 2,
   "id": "90327164",
   "metadata": {},
   "outputs": [
    {
     "data": {
      "text/plain": [
       "('1.4.4', '1.24.3')"
      ]
     },
     "execution_count": 2,
     "metadata": {},
     "output_type": "execute_result"
    }
   ],
   "source": [
    "pd.__version__, np.__version__"
   ]
  },
  {
   "cell_type": "code",
   "execution_count": 3,
   "id": "bc766896",
   "metadata": {},
   "outputs": [
    {
     "name": "stdout",
     "output_type": "stream",
     "text": [
      "Nova data_files_path='.\\\\Dados\\\\2021'\n"
     ]
    }
   ],
   "source": [
    "ano_susano = '2021'\n",
    "data_files_path = os.path.join('.','Dados', ano_susano)\n",
    "print(f'Nova {data_files_path=}')\n",
    "tmp_path = os.path.join('/tmp')\n",
    "pkl_source = 'LOCAL'"
   ]
  },
  {
   "cell_type": "code",
   "execution_count": null,
   "id": "a670be6a",
   "metadata": {},
   "outputs": [],
   "source": [
    "all_pkls = []"
   ]
  },
  {
   "cell_type": "code",
   "execution_count": null,
   "id": "ec280af8",
   "metadata": {},
   "outputs": [],
   "source": [
    "def read_pkl(pkl_file):\n",
    "    local_path = os.path.join(data_files_path, pkl_file)\n",
    "    print(f'read_pkl: {local_path=}')\n",
    "    gc_path = os.path.join(tmp_path, pkl_file)\n",
    "    if pkl_source == 'LOCAL':\n",
    "        df = pd.read_pickle(local_path)\n",
    "    else:\n",
    "        # download_blob(pkl_source, 'Dados/' + pkl_file, gc_path)\n",
    "        df = pd.read_pickle(gc_path)\n",
    "        os.remove(gc_path)\n",
    "    all_pkls.append(pkl_file)\n",
    "    return df"
   ]
  },
  {
   "cell_type": "code",
   "execution_count": 7,
   "id": "a0b42281",
   "metadata": {},
   "outputs": [],
   "source": [
    "dtypes_EMA = {'CNES':str,\n",
    "             'IBGE_Res':str,\n",
    "             'IBGE_Estab': str,\n",
    "             'IBGE_CAPITAL': str,\n",
    "             'CO_GRUPO': str,\n",
    "             'CO_GRUPO_SUBGRUPO': str}"
   ]
  },
  {
   "cell_type": "code",
   "execution_count": 9,
   "id": "ec5ed392",
   "metadata": {},
   "outputs": [],
   "source": [
    "def read_df(df_name):\n",
    "    zip_file = df_name + '.zip'\n",
    "    # local_path = os.path.join(data_files_path, pkl_file)\n",
    "    local_path =  os.path.join(data_files_path, zip_file)\n",
    "    print(f'{local_path=}')\n",
    "    gc_path = os.path.join(tmp_path, zip_file)\n",
    "    if pkl_source == 'LOCAL':\n",
    "        df = pd.read_csv(local_path, dtype=dtypes_EMA)\n",
    "        # df = pd.read_pickle(local_path)\n",
    "    else:\n",
    "        # download_blob(pkl_source, 'Dados/' + zip_file, gc_path)\n",
    "        df = pd.read_csv(gc_path)\n",
    "        os.remove(gc_path)\n",
    "    return df"
   ]
  },
  {
   "cell_type": "code",
   "execution_count": null,
   "id": "ea655b42",
   "metadata": {},
   "outputs": [],
   "source": [
    "ano_em_foco = int(ano_susano)\n",
    "\n",
    "df_capitais = read_pkl('df_capitais.pkl')\n",
    "UF_to_ibge_capital = df_capitais.set_index(['UF'])['IBGE_CAPITAL']\n",
    "UF_to_nome_UF = df_capitais.set_index(['UF'])['NOME_UF']"
   ]
  },
  {
   "cell_type": "code",
   "execution_count": null,
   "id": "003761c4",
   "metadata": {},
   "outputs": [],
   "source": [
    "df_EMA = read_pkl('df_EMA.pkl')\n",
    "# df_EMA contém os totais anuais para cada (Estabelecimento, Município, Alvo)"
   ]
  },
  {
   "cell_type": "code",
   "execution_count": 10,
   "id": "d73485eb",
   "metadata": {},
   "outputs": [
    {
     "name": "stdout",
     "output_type": "stream",
     "text": [
      "local_path='.\\\\Dados\\\\2021\\\\df_EMA.zip'\n"
     ]
    }
   ],
   "source": [
    "df_EMA = read_df('df_EMA')"
   ]
  },
  {
   "cell_type": "code",
   "execution_count": null,
   "id": "39aaf9a5",
   "metadata": {},
   "outputs": [],
   "source": [
    "df_EMA_mês = read_pkl('df_EMA_mes.pkl')\n",
    "# df_EMA_mês contém os valores mensais para cada (Estabelecimento, Município, Alvo, mês)"
   ]
  },
  {
   "cell_type": "code",
   "execution_count": null,
   "id": "ada9038c",
   "metadata": {},
   "outputs": [],
   "source": [
    "df_M = read_pkl('df_M.pkl')\n",
    "dict_M = df_M.set_index(['IBGE_Res']).T.to_dict('list')\n",
    "# [NOME_MUN, SIGLA_UF, POP_MUN, POP_MUN_SUS, LAT, LONG, Qtd, Valor, Excesso] = dict_M[IBGE6_MUN]"
   ]
  },
  {
   "cell_type": "code",
   "execution_count": null,
   "id": "cc74f0dc",
   "metadata": {},
   "outputs": [],
   "source": [
    "df_E = read_pkl('df_E.pkl')\n",
    "CNES_to_Nome_Estab = df_E.set_index(['CNES'])['Nome_Estab']\n",
    "dict_E = df_E.set_index(['CNES']).T.to_dict('list')\n",
    "# [uf_estab, ibge_estab, nome_estab, abrev_estab, qtd_estab, valor_estab, excesso_estab]=dict_E['2077396']"
   ]
  },
  {
   "cell_type": "code",
   "execution_count": 12,
   "id": "63cd501d",
   "metadata": {},
   "outputs": [
    {
     "name": "stdout",
     "output_type": "stream",
     "text": [
      "local_path='.\\\\Dados\\\\2021\\\\df_A.zip'\n",
      "df_A.columns=Index(['Cod_Alvo', 'Alvo', 'Qtd', 'Valor', 'Valor_Excesso_Estab',\n",
      "       'Valor_Excesso_Estab_Min', 'Abrev_Alvo'],\n",
      "      dtype='object')\n"
     ]
    }
   ],
   "source": [
    "df_A = read_df('df_A')\n",
    "print(f'{df_A.columns=}')\n",
    "dict_A = df_A.set_index(['Cod_Alvo']).T.to_dict('list')\n",
    "# [nome_alvo, qtd, valor, excesso, abrev_alvo] = dict_A[cod_alvo]\n",
    "Cod_Alvo_to_Alvo = df_A.set_index(['Cod_Alvo'])['Alvo']"
   ]
  },
  {
   "cell_type": "code",
   "execution_count": null,
   "id": "aec32f3c",
   "metadata": {},
   "outputs": [],
   "source": [
    "df_MA = read_pkl('df_MA.pkl')\n",
    "print(f'******** df_MA.columns = {df_MA.columns}')\n",
    "MA_to_excesso = df_MA.set_index(['IBGE_Res', 'Cod_Alvo'])['Excesso_MA']\n",
    "MA_to_valor = df_MA.set_index(['IBGE_Res', 'Cod_Alvo'])['Valor_MA']\n",
    "MA_to_qtd = df_MA.set_index(['IBGE_Res', 'Cod_Alvo'])['Qtd_MA']"
   ]
  },
  {
   "cell_type": "code",
   "execution_count": 13,
   "id": "4e2b5b17",
   "metadata": {},
   "outputs": [],
   "source": [
    "df_EMA_g_A = df_EMA.groupby(['Cod_Alvo']).sum().reset_index()\n",
    "df_EMA_g_A['Valor_Médio'] = df_EMA_g_A['Valor_EMA'] / df_EMA_g_A['Qtd_EMA']\n",
    "df_EMA_g_A['Registro'] = df_EMA_g_A['Cod_Alvo'].str.slice(start=7)\n",
    "df_EMA_g_A['Alvo'] = [Cod_Alvo_to_Alvo[cod_alvo] for cod_alvo in df_EMA_g_A['Cod_Alvo']]"
   ]
  },
  {
   "cell_type": "code",
   "execution_count": 14,
   "id": "88a41e6c",
   "metadata": {},
   "outputs": [],
   "source": [
    "df_EMA_g_A.to_csv(os.path.join(data_files_path, 'df_EMA_g_A.zip'))"
   ]
  },
  {
   "cell_type": "code",
   "execution_count": null,
   "id": "be92ba7a",
   "metadata": {},
   "outputs": [],
   "source": [
    "df_EMA_g_A = read_pkl('df_EMA_g_A')"
   ]
  },
  {
   "cell_type": "code",
   "execution_count": null,
   "id": "27a93057",
   "metadata": {},
   "outputs": [],
   "source": [
    "df_EMA_g_A.shape"
   ]
  },
  {
   "cell_type": "code",
   "execution_count": null,
   "id": "03b91026",
   "metadata": {},
   "outputs": [],
   "source": [
    "df_alvo_mês_limiar = read_pkl('df_alvo_mes_limiar.pkl')\n",
    "A_mês_to_limiar = df_alvo_mês_limiar.set_index(['Cod_Alvo', 'Mês'])['Limiar']"
   ]
  },
  {
   "cell_type": "code",
   "execution_count": null,
   "id": "8bcd3d2d",
   "metadata": {},
   "outputs": [],
   "source": [
    "df_grupos = read_pkl('df_grupos.pkl')\n",
    "dict_grupos = df_grupos.set_index(['CO_GRUPO']).T.to_dict('list')\n",
    "# [nome_grupo] = dict_grupos['04']"
   ]
  },
  {
   "cell_type": "code",
   "execution_count": null,
   "id": "b5a72dc6",
   "metadata": {},
   "outputs": [],
   "source": [
    "df_subgrupos = read_pkl('df_subgrupos.pkl')\n",
    "dict_subgrupos = df_subgrupos.set_index(['CO_GRUPO_SUBGRUPO']).T.to_dict('list')\n",
    "# [nomesubgrupo] = dict_subgrupos['0214']"
   ]
  },
  {
   "cell_type": "code",
   "execution_count": null,
   "id": "9a81670d",
   "metadata": {},
   "outputs": [],
   "source": [
    "df_pop_UF = read_pkl('df_pop_UF.pkl')\n",
    "dict_pop_UF = df_pop_UF.set_index(['SIGLA_UF']).T.to_dict('list')"
   ]
  },
  {
   "cell_type": "code",
   "execution_count": null,
   "id": "913f00fc",
   "metadata": {},
   "outputs": [],
   "source": [
    "pop_Br = df_M['POP'].sum()\n",
    "pop_SUS_Br = df_M['POP_SUS'].sum()\n",
    "\n",
    "print(f'\\n{all_pkls=}\\n')"
   ]
  },
  {
   "cell_type": "code",
   "execution_count": null,
   "id": "ff728be6",
   "metadata": {},
   "outputs": [],
   "source": [
    "import psutil\n",
    "psutil.virtual_memory()"
   ]
  },
  {
   "cell_type": "code",
   "execution_count": null,
   "id": "8eebb94e",
   "metadata": {},
   "outputs": [],
   "source": []
  }
 ],
 "metadata": {
  "kernelspec": {
   "display_name": "Python 3 (ipykernel)",
   "language": "python",
   "name": "python3"
  },
  "language_info": {
   "codemirror_mode": {
    "name": "ipython",
    "version": 3
   },
   "file_extension": ".py",
   "mimetype": "text/x-python",
   "name": "python",
   "nbconvert_exporter": "python",
   "pygments_lexer": "ipython3",
   "version": "3.9.13"
  },
  "toc": {
   "base_numbering": 1,
   "nav_menu": {},
   "number_sections": true,
   "sideBar": true,
   "skip_h1_title": false,
   "title_cell": "Table of Contents",
   "title_sidebar": "Contents",
   "toc_cell": false,
   "toc_position": {},
   "toc_section_display": true,
   "toc_window_display": false
  }
 },
 "nbformat": 4,
 "nbformat_minor": 5
}
